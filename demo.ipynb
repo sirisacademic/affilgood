{
 "cells": [
  {
   "cell_type": "markdown",
   "metadata": {},
   "source": [
    "# Testint the new affilgood library"
   ]
  },
  {
   "cell_type": "code",
   "execution_count": 2,
   "metadata": {},
   "outputs": [
    {
     "name": "stdout",
     "output_type": "stream",
     "text": [
      "Obtaining file:///home/siris/Repositories/affilgood-projects/affilgood/affilgood\n",
      "  Preparing metadata (setup.py) ... \u001b[?25ldone\n",
      "\u001b[?25hInstalling collected packages: affilgood\n",
      "  Attempting uninstall: affilgood\n",
      "    Found existing installation: affilgood 2.0.0\n",
      "    Uninstalling affilgood-2.0.0:\n",
      "      Successfully uninstalled affilgood-2.0.0\n",
      "\u001b[33m  DEPRECATION: Legacy editable install of affilgood==2.0.0 from file:///home/siris/Repositories/affilgood-projects/affilgood/affilgood (setup.py develop) is deprecated. pip 25.0 will enforce this behaviour change. A possible replacement is to add a pyproject.toml or enable --use-pep517, and use setuptools >= 64. If the resulting installation is not behaving as expected, try using --config-settings editable_mode=compat. Please consult the setuptools documentation for more information. Discussion can be found at https://github.com/pypa/pip/issues/11457\u001b[0m\u001b[33m\n",
      "\u001b[0m  Running setup.py develop for affilgood\n",
      "Successfully installed affilgood\n",
      "Note: you may need to restart the kernel to use updated packages.\n"
     ]
    }
   ],
   "source": [
    "%pip install -e affilgood/"
   ]
  },
  {
   "cell_type": "code",
   "execution_count": 2,
   "metadata": {},
   "outputs": [
    {
     "name": "stderr",
     "output_type": "stream",
     "text": [
      "16it [00:01, 10.89it/s]                      \n"
     ]
    },
    {
     "data": {
      "text/plain": [
       "[{'raw_text': 'Department of Society and Globalisation, Roskilde University , Roskilde , Denmark',\n",
       "  'span_entities': ['Department of Society and Globalisation, Roskilde University , Roskilde , Denmark']},\n",
       " {'raw_text': '1 Aarhus School of Architecture',\n",
       "  'span_entities': ['Aarhus School of Architecture']},\n",
       " {'raw_text': '## Department of Management, Politics and Philosophy Copenhagen Business School, Denmark ##',\n",
       "  'span_entities': ['Department of Management, Politics and Philosophy Copenhagen Business School, Denmark']},\n",
       " {'raw_text': '[Technical University of Denmark, Kongens Lyngby, Denmark]',\n",
       "  'span_entities': ['[Technical University of Denmark, Kongens Lyngby, Denmark]']},\n",
       " {'raw_text': 'Department of Agroecology, Faculty of Science and Technology, Aarhus University, Blichers Allé 20, P.O. Box 50, DK-8830 Tjele, Denmark; Department of Plant Biology and Soil Science, Faculty of Sciences, University of Vigo, E-32004 Ourense, Spain.',\n",
       "  'span_entities': ['Department of Agroecology, Faculty of Science and Technology, Aarhus University, Blichers Allé 20, P.O. Box 50, DK-8830 Tjele, Denmark',\n",
       "   'Department of Plant Biology and Soil Science, Faculty of Sciences, University of Vigo, E-32004 Ourense, Spain.']},\n",
       " {'raw_text': 'Editor-In-Chief, Journal of Clinical Exercise PhysiologyChair, Henry Ford Institutional Review BoardAssociate Director, Preventive CardiologyEdith and Benson Ford Heart & Vascular InstituteHenry Ford Medical Group, Detroit, MI',\n",
       "  'span_entities': ['Preventive CardiologyEdith and Benson Ford Heart & Vascular InstituteHenry Ford Medical Group, Detroit, MI']},\n",
       " {'raw_text': 'Polytechnic Institute of Maia, N2i, Social Sciences, Education and Sport School, Avenida Carlos de Oliveira Campos, Castêlo da Maia, 4475-690 Maia, Portugal',\n",
       "  'span_entities': ['Polytechnic Institute of Maia, N2i, Social Sciences, Education and Sport School, Avenida Carlos de Oliveira Campos, Castêlo da Maia, 4475-690 Maia, Portugal']},\n",
       " {'raw_text': 'Centro de Investigación Biomédica en Red, Área de Enfermedades Respiratorias (CIBERES), Instituto de Salud Carlos III, 28029 Madrid, Spain',\n",
       "  'span_entities': ['Centro de Investigación Biomédica en Red, Área de Enfermedades Respiratorias (CIBERES), Instituto de Salud Carlos III, 28029 Madrid, Spain']},\n",
       " {'raw_text': 'Osaka Research Institute of Industrial Science and Technology, 2-7-1 Ayumino, Izumi-City, Osaka, 594-1157, Japan',\n",
       "  'span_entities': ['Osaka Research Institute of Industrial Science and Technology, 2-7-1 Ayumino, Izumi-City, Osaka, 594-1157, Japan']},\n",
       " {'raw_text': 'Graduando de Medicina Instituição: Faculdade Metropolitana de Rondônia (UNNESA) Endereço: R. das Araras, 241, Eldorado, Porto Velho, RO, CEP: 76811-678',\n",
       "  'span_entities': ['Graduando de Medicina Instituição: Faculdade Metropolitana de Rondônia (UNNESA) Endereço: R. das Araras, 241, Eldorado, Porto Velho, RO, CEP: 76811-678']},\n",
       " {'raw_text': 'MS Ramaiah University of Applied Science, MSR Nagar, MSRIT Post',\n",
       "  'span_entities': ['MS Ramaiah University of Applied Science, MSR Nagar, MSRIT Post']},\n",
       " {'raw_text': \"Treuman Katz Center for Pediatric Bioethics and Palliative Care, Center of Clinical and Translational Research, Seattle Children's Research Institute, 1900 Ninth Ave., MS: JMB-6, Seattle, WA, USA 98101; Division of Bioethics and Palliative Care, Department of Pediatrics, University of Washington School of Medicine, M/S MB.5.605, PO Box 5371, Seattle, WA 98105, USA; Department of Bioethics and Decision Sciences, Geisinger College of Health Sciences, Danville, PA 17044, USA. Electronic address: skraft1@geisinger.edu.\",\n",
       "  'span_entities': [\"Treuman Katz Center for Pediatric Bioethics and Palliative Care, Center of Clinical and Translational Research, Seattle Children's Research Institute, 1900 Ninth Ave., MS: JMB-6, Seattle, WA, USA 98101\",\n",
       "   'Division of Bioethics and Palliative Care, Department of Pediatrics, University of Washington School of Medicine, M/S MB.5.605, PO Box 5371, Seattle, WA 98105, USA',\n",
       "   'Department of Bioethics and Decision Sciences, Geisinger College of Health Sciences, Danville, PA 17044, USA.']},\n",
       " {'raw_text': 'CNR-ICMATE and INSTM, Department of Chemical Sciences, Padova University, 35131 Padova, Italy',\n",
       "  'span_entities': ['CNR-ICMATE and INSTM, Department of Chemical Sciences, Padova University, 35131 Padova, Italy']},\n",
       " {'raw_text': 'Dean for Agricultural Economics, Faculty for Agricultural and Environmental Sciences, University Rostock Justus-von-Liebig-Weg 7, Rostock 38051 Germany',\n",
       "  'span_entities': ['Dean for Agricultural Economics, Faculty for Agricultural and Environmental Sciences, University Rostock Justus-von-Liebig-Weg 7, Rostock 38051 Germany']},\n",
       " {'raw_text': 'to Ali G. Hamedani, MD, MHS, Departments of Neurology, Ophthalmology, and Epidemiology, Perelman School of Medicine, University of Pennsylvania, 423 Guardian Dr, Room 829, Philadelphia, PA 19104',\n",
       "  'span_entities': ['Departments of Neurology, Ophthalmology, and Epidemiology, Perelman School of Medicine, University of Pennsylvania, 423 Guardian Dr, Room 829, Philadelphia, PA 19104']},\n",
       " {'raw_text': 'de La memoria de Chile está en el mar son de Luis Alanis, 2015. El proyecto La memoria de Chile está en el mar fue presentado en el Convento de San Agustín de Barcelona, como parte del Festival Vértex, el año 2015.',\n",
       "  'span_entities': []}]"
      ]
     },
     "execution_count": 2,
     "metadata": {},
     "output_type": "execute_result"
    }
   ],
   "source": [
    "import affilgood\n",
    "\n",
    "my_affilgood = affilgood.AffilGood()\n",
    "\n",
    "# Load examples\n",
    "with open('example/example_raw_affiliation_strings.txt', 'r') as file:\n",
    "    examples = [line.strip() for line in file.readlines()]\n",
    "\n",
    "# Process examples\n",
    "my_affilgood.process(examples)"
   ]
  },
  {
   "cell_type": "code",
   "execution_count": null,
   "metadata": {},
   "outputs": [],
   "source": []
  }
 ],
 "metadata": {
  "kernelspec": {
   "display_name": "affilgood",
   "language": "python",
   "name": "python3"
  },
  "language_info": {
   "codemirror_mode": {
    "name": "ipython",
    "version": 3
   },
   "file_extension": ".py",
   "mimetype": "text/x-python",
   "name": "python",
   "nbconvert_exporter": "python",
   "pygments_lexer": "ipython3",
   "version": "3.9.20"
  }
 },
 "nbformat": 4,
 "nbformat_minor": 2
}
